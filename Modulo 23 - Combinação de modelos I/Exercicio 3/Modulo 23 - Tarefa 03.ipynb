{
 "cells": [
  {
   "cell_type": "markdown",
   "id": "395e1987-0e34-4650-9dd6-a92aceeb1484",
   "metadata": {},
   "source": [
    "# Tarefa 3"
   ]
  },
  {
   "cell_type": "markdown",
   "id": "1cfe3099-aa58-4830-bc69-e6bf794f6d8d",
   "metadata": {},
   "source": [
    "## 1. Quais são os hyperparâmetros do RF?"
   ]
  },
  {
   "cell_type": "markdown",
   "id": "4a0da59b-a61e-451f-a85e-8b2b60ec7e6f",
   "metadata": {},
   "source": [
    "Os hyperparâmetros do algoritmo Random Forest são:\n",
    "\n",
    "    * n_estimators\n",
    "    * criterion\n",
    "    * max_depth\n",
    "    * min_samples_split\n",
    "    * min_samples_leaf\n",
    "    * min_weight_fraction_leaf\n",
    "    * max_features\n",
    "    * max_leaf_nodes\n",
    "    * min_impurity_decrease\n",
    "    * bootstrap\n",
    "    * oob_score\n",
    "    * n_jobs\n",
    "    * random_state\n",
    "    * verbose\n",
    "    * warm_start\n",
    "    * class_weight\n",
    "    * ccp_alpha\n",
    "    * max_samples"
   ]
  },
  {
   "cell_type": "markdown",
   "id": "77563b0d-2fb8-4310-a6a4-6c2615d14359",
   "metadata": {},
   "source": [
    "##  2. Pra que serve cada um deles?"
   ]
  },
  {
   "cell_type": "markdown",
   "id": "65077605-e5e3-43d0-a735-86393aff6a66",
   "metadata": {},
   "source": [
    "* n_estimators: Número de árvores de decisão no modelo. Cada árvore é construída a partir de uma amostra aleatória com reposição (Bootstrap);\n",
    "* criterion: Métrica para avaliar a qualidade das divisões nos nós da árvore;\n",
    "* max_depth: Número para limitar a profundidade máxima da árvore;\n",
    "* min_samples_split: Número mínimo de amostras para que ocorra a divisão de um nó na árvore;\n",
    "* min_samples_leaf: Número mínimo de amostras em uma folha para que seja considerada válida na divisão;\n",
    "* min_weight_fraction_leaf: Número decimal para definir valor o \"peso\" (importância) mínimo necessário de uma folha;\n",
    "* max_features: Número máximo de variáveis (feature selection) ao buscar a melhor divisão;\n",
    "* max_leaf_nodes: Número máximo de nós na árvore;\n",
    "* min_impurity_decrease: Valor mínimo de redução da impureza que define se haverá divisão do nó de acordo com a métrica utilizada;\n",
    "* bootstrap: Define se o método Bootstrap será utilizado;\n",
    "* oob_score: Define se o método out-of-bag será utilizado caso Bootstrap também estiver em uso;\n",
    "* n_jobs: Número de processos que podem trabalhar em paralelo caso haja processamento disponível;\n",
    "* random_state: Controla a aleatoriedade dos métodos Bootstrap e feature selection possibilitando a reprodução dos mesmos resultados do modelo;\n",
    "* verbose: Controla o detalhamento das mensagens nos processos de treino e previsão do modelo;\n",
    "* warm_start: Possibilita o reuso do treino anterior adicionando mais árvores ao modelo;\n",
    "* class_weight: Define o peso de cada classe, possibilitando equilíbrio proporcional entre elas;\n",
    "* ccp_alpha: Parâmetro de complexidade usado para controlar a pós-poda da árvore. Quanto maior o valor, maior será a poda;\n",
    "* max_samples: Número máximo de amostras para treinar o modelo caso o método Bootstrap seja utilizado."
   ]
  }
 ],
 "metadata": {
  "kernelspec": {
   "display_name": "Python 3 (ipykernel)",
   "language": "python",
   "name": "python3"
  },
  "language_info": {
   "codemirror_mode": {
    "name": "ipython",
    "version": 3
   },
   "file_extension": ".py",
   "mimetype": "text/x-python",
   "name": "python",
   "nbconvert_exporter": "python",
   "pygments_lexer": "ipython3",
   "version": "3.12.7"
  }
 },
 "nbformat": 4,
 "nbformat_minor": 5
}
