{
 "cells": [
  {
   "cell_type": "markdown",
   "id": "395e1987-0e34-4650-9dd6-a92aceeb1484",
   "metadata": {},
   "source": [
    "# Tarefa 1"
   ]
  },
  {
   "cell_type": "markdown",
   "id": "1cfe3099-aa58-4830-bc69-e6bf794f6d8d",
   "metadata": {},
   "source": [
    "## 1. Monte um passo a passo para o Bagging"
   ]
  },
  {
   "cell_type": "markdown",
   "id": "4a0da59b-a61e-451f-a85e-8b2b60ec7e6f",
   "metadata": {},
   "source": [
    "O Bagging (Bootstrap Aggregating) consiste nos seguintes passos:\n",
    "\n",
    "    1- Bootstrap: O processo de bootstrap envolve a criação de amostras aleatórias de treinamento com reposição a partir do conjunto de dados de treinamento original. Isso significa que cada amostra bootstrap tem o mesmo tamanho do conjunto de dados original, mas é obtida permitindo que cada exemplo seja selecionado várias vezes.\n",
    "    2- Modelagem (Base learners): Para cada amostra bootstrap criada, um modelo de Machine Learning é treinado de forma independente. Isso significa que múltiplos modelos são criados, onde cada um é treinado em uma amostra bootstrap diferente. Esses modelos são chamados de base learners.\n",
    "    3- Agregação (Aggregating): Nesta etapa, os resultados dos modelos individuais são agregados para formar uma única previsão final. No caso de problemas de classificação, a agregação geralmente é feita por votação majoritária, onde a classe mais comum entre os modelos é selecionada como a previsão final. Para problemas de regressão, a agregação é feita calculando-se a média dos resultados dos modelos."
   ]
  },
  {
   "cell_type": "markdown",
   "id": "77563b0d-2fb8-4310-a6a4-6c2615d14359",
   "metadata": {},
   "source": [
    "## 2. Explique com suas palavras o Bagging"
   ]
  },
  {
   "cell_type": "markdown",
   "id": "65077605-e5e3-43d0-a735-86393aff6a66",
   "metadata": {},
   "source": [
    "O Bagging, ou Bootstrap Aggregating, é um método de combinação de modelos usado em Machine Learning. Ele envolve a criação de várias amostras de treinamento, onde cada amostra é gerada aleatoriamente com reposição a partir do conjunto de dados original, em um processo chamado Bootstrap. Em seguida, cada amostra é usada para treinar um modelo independente, chamado de base learner.\n",
    "\n",
    "Na etapa de teste, os modelos são aplicados aos dados de teste e suas previsões são combinadas por meio de uma estratégia de agregação. No caso de problemas de classificação, a combinação geralmente é feita por votação majoritária, ou seja, a classe mais frequente entre os modelos é escolhida como a classe final. No caso de problemas de regressão, a combinação é feita calculando-se a média das previsões dos modelos."
   ]
  },
  {
   "cell_type": "markdown",
   "id": "13d82d9b-40ec-46e6-ab7d-032745ae44d7",
   "metadata": {},
   "source": [
    "### 3. (Opcional) Implementar em python o código do Bagging"
   ]
  },
  {
   "cell_type": "code",
   "execution_count": 5,
   "id": "a599e4d1-4485-4bef-9ce7-b2ef2ca10b74",
   "metadata": {},
   "outputs": [
    {
     "name": "stdout",
     "output_type": "stream",
     "text": [
      "Accuracy of Bagging Model: 0.9500\n",
      "Accuracy of Aggregated Predictions (Manual): 0.9600\n"
     ]
    }
   ],
   "source": [
    "import numpy as np\n",
    "from sklearn.ensemble import BaggingClassifier\n",
    "from sklearn.tree import DecisionTreeClassifier\n",
    "from sklearn.datasets import make_classification\n",
    "from sklearn.model_selection import train_test_split\n",
    "from sklearn.metrics import accuracy_score\n",
    "\n",
    "# Gerar um conjunto de dados de classificação fictício\n",
    "X, y = make_classification(n_samples=1000, n_features=10, n_informative=5, random_state=42)\n",
    "\n",
    "# Dividir os dados em conjuntos de treinamento e teste\n",
    "X_train, X_test, y_train, y_test = train_test_split(X, y, test_size=0.2, random_state=42)\n",
    "\n",
    "# Etapa 1 - Bootstrap: Gerando subconjuntos de dados com reposição\n",
    "n_estimators = 10  # Número de modelos na técnica de Bagging\n",
    "\n",
    "# Criar os conjuntos de treinamento com reposição\n",
    "bootstrap_samples = [np.random.choice(X_train.shape[0], size=X_train.shape[0], replace=True) for _ in range(n_estimators)]\n",
    "\n",
    "# Etapa 2 - Modelagem: Treinando múltiplos modelos com os subconjuntos criados\n",
    "models = []\n",
    "for i in range(n_estimators):\n",
    "    model = DecisionTreeClassifier(random_state=42)\n",
    "    model.fit(X_train[bootstrap_samples[i]], y_train[bootstrap_samples[i]])\n",
    "    models.append(model)\n",
    "\n",
    "# Etapa 3 - Agregação: Fazendo previsões com os modelos e agregando os resultados\n",
    "# Aqui usamos BaggingClassifier para simplificar o processo de agregação.\n",
    "bagging = BaggingClassifier(estimator=DecisionTreeClassifier(), n_estimators=n_estimators, random_state=42)  # Alteração aqui\n",
    "\n",
    "# Treinar o modelo de Bagging\n",
    "bagging.fit(X_train, y_train)\n",
    "\n",
    "# Fazer previsões\n",
    "y_pred = bagging.predict(X_test)\n",
    "\n",
    "# Avaliar a acurácia do modelo de Bagging\n",
    "accuracy = accuracy_score(y_test, y_pred)\n",
    "print(f\"Accuracy of Bagging Model: {accuracy:.4f}\")\n",
    "\n",
    "# Comparação com agregação manual das previsões individuais\n",
    "individual_predictions = [model.predict(X_test) for model in models]\n",
    "aggregated_predictions = np.array(individual_predictions).T\n",
    "aggregated_predictions = [np.bincount(pred).argmax() for pred in aggregated_predictions]\n",
    "\n",
    "# Avaliação da acurácia da agregação manual\n",
    "aggregated_accuracy = accuracy_score(y_test, aggregated_predictions)\n",
    "print(f\"Accuracy of Aggregated Predictions (Manual): {aggregated_accuracy:.4f}\")\n"
   ]
  }
 ],
 "metadata": {
  "kernelspec": {
   "display_name": "Python 3 (ipykernel)",
   "language": "python",
   "name": "python3"
  },
  "language_info": {
   "codemirror_mode": {
    "name": "ipython",
    "version": 3
   },
   "file_extension": ".py",
   "mimetype": "text/x-python",
   "name": "python",
   "nbconvert_exporter": "python",
   "pygments_lexer": "ipython3",
   "version": "3.12.7"
  }
 },
 "nbformat": 4,
 "nbformat_minor": 5
}
