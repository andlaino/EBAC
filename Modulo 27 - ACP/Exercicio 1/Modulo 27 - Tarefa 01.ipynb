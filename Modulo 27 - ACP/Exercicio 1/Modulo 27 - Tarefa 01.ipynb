{
 "cells": [
  {
   "cell_type": "markdown",
   "metadata": {},
   "source": [
    "![Cabec%CC%A7alho_notebook.png](cabecalho_notebook.png)"
   ]
  },
  {
   "cell_type": "markdown",
   "metadata": {},
   "source": [
    "# PCA - Tarefa 01: *HAR* com PCA\n",
    "\n",
    "Vamos trabalhar com a base da demonstração feita em aula, mas vamos explorar um pouco melhor como é o desempenho da árvore variando o número de componentes principais."
   ]
  },
  {
   "cell_type": "code",
   "execution_count": 24,
   "metadata": {
    "scrolled": true
   },
   "outputs": [],
   "source": [
    "import pandas as pd\n",
    "\n",
    "from sklearn.tree import DecisionTreeClassifier\n",
    "\n",
    "from sklearn.decomposition import PCA\n",
    "from sklearn.metrics import accuracy_score\n",
    "from sklearn.model_selection import cross_val_score\n",
    "from sklearn.model_selection import GridSearchCV\n",
    "\n",
    "\n",
    "filename_features = \"../Dados/UCI HAR Dataset/features.txt\"\n",
    "filename_labels = \"../Dados/UCI HAR Dataset/activity_labels.txt\"\n",
    "\n",
    "filename_subtrain = \"../Dados/UCI HAR Dataset/train/subject_train.txt\"\n",
    "filename_xtrain = \"../Dados/UCI HAR Dataset/train/X_train.txt\"\n",
    "filename_ytrain = \"../Dados/UCI HAR Dataset/train/y_train.txt\"\n",
    "\n",
    "filename_subtest = \"../Dados/UCI HAR Dataset/test/subject_test.txt\"\n",
    "filename_xtest = \"../Dados/UCI HAR Dataset/test/X_test.txt\"\n",
    "filename_ytest = \"../Dados/UCI HAR Dataset/test/y_test.txt\"\n",
    "\n",
    "# Carregar features (nomes das colunas)\n",
    "features = pd.read_csv(filename_features, header=None, names=['nome_var'], sep=r\"\\s+\").squeeze(\"columns\")\n",
    "\n",
    "# Resolver duplicatas nos nomes das colunas\n",
    "if features.duplicated().any():\n",
    "    features = features + \"_\" + features.groupby(features).cumcount().astype(str).replace(\"0\", \"\")\n",
    "\n",
    "# Carregar os dados\n",
    "labels = pd.read_csv(filename_labels, sep=r\"\\s+\", header=None, names=['cod_label', 'label'])\n",
    "\n",
    "subject_train = pd.read_csv(filename_subtrain, header=None, names=['subject_id']).squeeze(\"columns\")\n",
    "X_train = pd.read_csv(filename_xtrain, sep=r\"\\s+\", header=None, names=features.tolist())\n",
    "y_train = pd.read_csv(filename_ytrain, header=None, names=['cod_label'])\n",
    "\n",
    "subject_test = pd.read_csv(filename_subtest, header=None, names=['subject_id']).squeeze(\"columns\")\n",
    "X_test = pd.read_csv(filename_xtest, sep=r\"\\s+\", header=None, names=features.tolist())\n",
    "y_test = pd.read_csv(filename_ytest, header=None, names=['cod_label'])\n"
   ]
  },
  {
   "cell_type": "markdown",
   "metadata": {},
   "source": [
    "## Árvore de decisão\n",
    "\n",
    "Rode uma árvore de decisão com todas as variáveis, utilizando o ```ccp_alpha=0.001```. Avalie a acurácia nas bases de treinamento e teste. Avalie o tempo de processamento."
   ]
  },
  {
   "cell_type": "code",
   "execution_count": 25,
   "metadata": {},
   "outputs": [
    {
     "name": "stdout",
     "output_type": "stream",
     "text": [
      "Acurácia na base de treinamento: 0.9757889009793254\n",
      "Acurácia na base de teste: 0.8795385137427892\n",
      "\n",
      "CPU times: total: 7 s\n",
      "Wall time: 7 s\n"
     ]
    }
   ],
   "source": [
    "%%time\n",
    "# Medindo o tempo de processamento\n",
    "\n",
    "# Criação do classificador de árvore de decisão com ccp_alpha=0.001\n",
    "clf = DecisionTreeClassifier(ccp_alpha=0.001)\n",
    "\n",
    "# Treinamento do classificador utilizando os dados de treinamento\n",
    "clf.fit(X_train, y_train)\n",
    "\n",
    "# Avaliação da acurácia do classificador nos dados de treinamento\n",
    "print(f'Acurácia na base de treinamento: {clf.score(X_train, y_train)}')\n",
    "# Avaliação da acurácia do classificador nos dados de teste\n",
    "print(f'Acurácia na base de teste: {clf.score(X_test, y_test)}\\n')"
   ]
  },
  {
   "cell_type": "markdown",
   "metadata": {},
   "source": [
    "## Árvore com PCA\n",
    "\n",
    "Faça uma análise de componemtes principais das variáveis originais. Utilize apenas uma componente. Faça uma árvore de decisão com esta componente como variável explicativa.\n",
    "\n",
    "- Avalie a acurácia nas bases de treinamento e teste\n",
    "- Avalie o tempo de processamento"
   ]
  },
  {
   "cell_type": "code",
   "execution_count": 26,
   "metadata": {},
   "outputs": [
    {
     "name": "stdout",
     "output_type": "stream",
     "text": [
      "Dimensões da base de treinamento: (7352, 1)\n",
      "Dimensões da base de teste: (2947, 1)\n",
      "Acurácia na base de treinamento: 0.499727965179543\n",
      "Acurácia na base de teste: 0.45707499151679676\n",
      "\n",
      "CPU times: total: 641 ms\n",
      "Wall time: 256 ms\n"
     ]
    }
   ],
   "source": [
    "%%time\n",
    "\n",
    "# Aplica o PCA com 1 componente aos dados de treinamento\n",
    "prcomp = PCA(n_components=1).fit(X_train)\n",
    "\n",
    "# Transforma os dados de treinamento e teste utilizando as componentes principais encontradas pelo PCA\n",
    "pc_treino = prcomp.transform(X_train)\n",
    "pc_teste  = prcomp.transform(X_test)\n",
    "\n",
    "# Imprime a forma dos dados de treinamento e teste após a transformação\n",
    "print(f'Dimensões da base de treinamento: {pc_treino.shape}')\n",
    "print(f'Dimensões da base de teste: {pc_teste.shape}')\n",
    "\n",
    "# Inicializa um classificador de árvore de decisão com ccp_alpha=0.001 e treina-o com os dados de treinamento transformados\n",
    "clf = DecisionTreeClassifier(ccp_alpha=0.001)\n",
    "clf.fit(pc_treino, y_train)\n",
    "\n",
    "# Calcula e imprime a acurácia do classificador nos dados de treinamento e teste\n",
    "print(f'Acurácia na base de treinamento: {clf.score(pc_treino, y_train)}')\n",
    "print(f'Acurácia na base de teste: {clf.score(pc_teste, y_test)}\\n')"
   ]
  },
  {
   "cell_type": "markdown",
   "metadata": {},
   "source": [
    "## Testando o número de componentes\n",
    "\n",
    "Com base no código acima, teste a árvore de classificação com pelo menos as seguintes possibilidades de quantidades de componentes: ```[1, 2, 5, 10, 50]```. Avalie para cada uma delas:\n",
    "\n",
    "- Acurácia nas bases de treino e teste\n",
    "- Tempo de processamento\n"
   ]
  },
  {
   "cell_type": "code",
   "execution_count": 27,
   "metadata": {},
   "outputs": [
    {
     "name": "stdout",
     "output_type": "stream",
     "text": [
      "Dimensões da base de treinamento: (7352, 1)\n",
      "Dimensões da base de teste: (2947, 1)\n",
      "Acurácia na base de treinamento: 0.499727965179543\n",
      "Acurácia na base de teste: 0.45707499151679676\n",
      "\n",
      "Dimensões da base de treinamento: (7352, 2)\n",
      "Dimensões da base de teste: (2947, 2)\n",
      "Acurácia na base de treinamento: 0.6127584330794341\n",
      "Acurácia na base de teste: 0.5846623685103495\n",
      "\n",
      "Dimensões da base de treinamento: (7352, 5)\n",
      "Dimensões da base de teste: (2947, 5)\n",
      "Acurácia na base de treinamento: 0.8460282916213275\n",
      "Acurácia na base de teste: 0.7885985748218527\n",
      "\n",
      "Dimensões da base de treinamento: (7352, 10)\n",
      "Dimensões da base de teste: (2947, 10)\n",
      "Acurácia na base de treinamento: 0.8926822633297062\n",
      "Acurácia na base de teste: 0.8242280285035629\n",
      "\n",
      "Dimensões da base de treinamento: (7352, 50)\n",
      "Dimensões da base de teste: (2947, 50)\n",
      "Acurácia na base de treinamento: 0.919341675734494\n",
      "Acurácia na base de teste: 0.822870715982355\n",
      "\n",
      "CPU times: total: 4.8 s\n",
      "Wall time: 1.71 s\n"
     ]
    }
   ],
   "source": [
    "%%time\n",
    "\n",
    "componentes = [1, 2, 5, 10, 50]\n",
    "\n",
    "# Loop sobre os diferentes números de componentes\n",
    "for n in componentes:\n",
    "    # Executa o PCA com o número de componentes atual\n",
    "    prcomp = PCA(n_components=n).fit(X_train)\n",
    "\n",
    "    # Transforma os dados de treinamento e teste nos componentes principais\n",
    "    pc_treino = prcomp.transform(X_train)\n",
    "    pc_teste  = prcomp.transform(X_test)\n",
    "\n",
    "    # Imprime as dimensões dos dados transformados\n",
    "    print(f'Dimensões da base de treinamento: {pc_treino.shape}')\n",
    "    print(f'Dimensões da base de teste: {pc_teste.shape}')\n",
    "\n",
    "    # Cria e treina um classificador de árvore de decisão\n",
    "    clf = DecisionTreeClassifier(ccp_alpha=0.001)\n",
    "    clf.fit(pc_treino, y_train)\n",
    "\n",
    "    # Avalia a acurácia na base de treinamento e teste\n",
    "    print(f'Acurácia na base de treinamento: {clf.score(pc_treino, y_train)}')\n",
    "    print(f'Acurácia na base de teste: {clf.score(pc_teste, y_test)}\\n')"
   ]
  },
  {
   "cell_type": "markdown",
   "metadata": {},
   "source": [
    "## Conclua\n",
    "\n",
    "- O que aconteceu com a acurácia?\n",
    "- O que aconteceu com o tempo de processamento?"
   ]
  },
  {
   "cell_type": "markdown",
   "metadata": {},
   "source": [
    "Ao aplicar a técnica de Análise de Componentes Principais (PCA) para reduzir a dimensionalidade dos dados, observamos mudanças significativas tanto na acurácia quanto no tempo de processamento.\n",
    "\n",
    "Inicialmente, ao utilizar todas as variáveis originais, a árvore de decisão obteve uma acurácia de 88,02% na base de teste e levou cerca de 4,49 segundos para ser executada. No entanto, ao reduzir os dados para apenas uma componente principal, o tempo de processamento caiu para 279 ms, mas a acurácia despencou para 45,71%.\n",
    "\n",
    "À medida que aumentamos o número de componentes, a acurácia da base de teste melhorou progressivamente:\n",
    "\n",
    "2 componentes → 58,46% de acurácia\n",
    "5 componentes → 78,86% de acurácia\n",
    "10 componentes → 82,45% de acurácia\n",
    "50 componentes → 82,45% de acurácia\n",
    "O tempo total de execução para testar todas essas combinações foi de 2,05 segundos, menos da metade do tempo necessário para processar o conjunto de dados original.\n",
    "\n",
    "Conclusão\n",
    "Com base nos resultados, percebemos que é possível reduzir significativamente a dimensionalidade dos dados sem perder muita acurácia. Com 50 componentes, conseguimos um desempenho semelhante ao modelo treinado com todas as variáveis originais, porém com um tempo de processamento muito menor. Isso comprova a eficiência do PCA para otimizar modelos de aprendizado de máquina, mantendo um bom equilíbrio entre precisão e desempenho computacional."
   ]
  }
 ],
 "metadata": {
  "kernelspec": {
   "display_name": "Python 3 (ipykernel)",
   "language": "python",
   "name": "python3"
  },
  "language_info": {
   "codemirror_mode": {
    "name": "ipython",
    "version": 3
   },
   "file_extension": ".py",
   "mimetype": "text/x-python",
   "name": "python",
   "nbconvert_exporter": "python",
   "pygments_lexer": "ipython3",
   "version": "3.12.7"
  },
  "toc": {
   "base_numbering": 1,
   "nav_menu": {},
   "number_sections": true,
   "sideBar": true,
   "skip_h1_title": true,
   "title_cell": "Índice",
   "title_sidebar": "Conteúdo",
   "toc_cell": false,
   "toc_position": {},
   "toc_section_display": true,
   "toc_window_display": false
  },
  "varInspector": {
   "cols": {
    "lenName": 16,
    "lenType": 16,
    "lenVar": 40
   },
   "kernels_config": {
    "python": {
     "delete_cmd_postfix": "",
     "delete_cmd_prefix": "del ",
     "library": "var_list.py",
     "varRefreshCmd": "print(var_dic_list())"
    },
    "r": {
     "delete_cmd_postfix": ") ",
     "delete_cmd_prefix": "rm(",
     "library": "var_list.r",
     "varRefreshCmd": "cat(var_dic_list()) "
    }
   },
   "types_to_exclude": [
    "module",
    "function",
    "builtin_function_or_method",
    "instance",
    "_Feature"
   ],
   "window_display": false
  }
 },
 "nbformat": 4,
 "nbformat_minor": 4
}
